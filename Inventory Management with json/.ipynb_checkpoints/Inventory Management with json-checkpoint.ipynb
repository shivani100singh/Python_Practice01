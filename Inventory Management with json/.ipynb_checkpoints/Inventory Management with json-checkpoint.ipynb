{
 "cells": [
  {
   "cell_type": "code",
   "execution_count": 52,
   "id": "a2fca43f-2451-40e7-a706-ab0d92f23c5f",
   "metadata": {},
   "outputs": [],
   "source": [
    "record ={1001: {\"Product Name\": \"Dairy Milk\" , \"Price\": 10, \"Quantity\":100 },\n",
    "         1002: {\"Product Name\": \"Kurkure\"    , \"Price\": 10, \"Quantity\":200 },\n",
    "         1003: {\"Product Name\": \"Kit-Kat\"    , \"Price\": 20, \"Quantity\":200 },\n",
    "         1004: {\"Product Name\": \"Big Kurkure\", \"Price\": 20, \"Quantity\":200 }}"
   ]
  },
  {
   "cell_type": "code",
   "execution_count": 2,
   "id": "035384aa-4546-41ce-a591-107f687c804b",
   "metadata": {},
   "outputs": [
    {
     "data": {
      "text/plain": [
       "{1001: {'Product Name': 'Dairy Milk', 'Price': 10, 'Quantity': 100},\n",
       " 1002: {'Product Name': 'Kurkure', 'Price': 10, 'Quantity': 200},\n",
       " 1003: {'Product Name': 'Kit-Kat', 'Price': 20, 'Quantity': 200},\n",
       " 1004: {'Product Name': 'Big Kurkure', 'Price': 20, 'Quantity': 200}}"
      ]
     },
     "execution_count": 2,
     "metadata": {},
     "output_type": "execute_result"
    }
   ],
   "source": [
    "record"
   ]
  },
  {
   "cell_type": "code",
   "execution_count": 53,
   "id": "61d2c894-b27c-4108-863f-d29ef55492bd",
   "metadata": {},
   "outputs": [
    {
     "data": {
      "text/plain": [
       "'{\"1001\": {\"Product Name\": \"Dairy Milk\", \"Price\": 10, \"Quantity\": 100}, \"1002\": {\"Product Name\": \"Kurkure\", \"Price\": 10, \"Quantity\": 200}, \"1003\": {\"Product Name\": \"Kit-Kat\", \"Price\": 20, \"Quantity\": 200}, \"1004\": {\"Product Name\": \"Big Kurkure\", \"Price\": 20, \"Quantity\": 200}}'"
      ]
     },
     "execution_count": 53,
     "metadata": {},
     "output_type": "execute_result"
    }
   ],
   "source": [
    "import json\n",
    "json.dumps(record)"
   ]
  },
  {
   "cell_type": "code",
   "execution_count": 54,
   "id": "9e76ad4c-3209-4c95-bf78-23b2878fd050",
   "metadata": {},
   "outputs": [],
   "source": [
    "js = json.dumps(record)"
   ]
  },
  {
   "cell_type": "code",
   "execution_count": 50,
   "id": "44577fbb-8028-4046-a882-914abd567a08",
   "metadata": {},
   "outputs": [
    {
     "data": {
      "text/plain": [
       "'{\"1001\": {\"Product Name\": \"Dairy Milk\", \"Price\": 10, \"Quantity\": 28}, \"1002\": {\"Product Name\": \"Kurkure\", \"Price\": 10, \"Quantity\": 166}, \"1003\": {\"Product Name\": \"Kit-Kat\", \"Price\": 20, \"Quantity\": 200}, \"1004\": {\"Product Name\": \"Big Kurkure\", \"Price\": 20, \"Quantity\": 200}}'"
      ]
     },
     "execution_count": 50,
     "metadata": {},
     "output_type": "execute_result"
    }
   ],
   "source": [
    "js"
   ]
  },
  {
   "cell_type": "code",
   "execution_count": 51,
   "id": "fab6deb1-e03f-4d6b-aee2-bf249b9c6a2c",
   "metadata": {},
   "outputs": [],
   "source": [
    "fd = open(\"inventory.json\",'w')\n",
    "fd.write(js)\n",
    "fd.close()"
   ]
  },
  {
   "cell_type": "code",
   "execution_count": 69,
   "id": "8cd57e49-1cd1-42e3-a292-ddc164b5fe23",
   "metadata": {},
   "outputs": [
    {
     "name": "stdout",
     "output_type": "stream",
     "text": [
      "------------------------------\n",
      "-------------MENU-------------\n",
      "\n",
      "1001 : Dairy Milk 10 57\n",
      "1002 : Kurkure 10 147\n",
      "1003 : Kit-Kat 20 170\n",
      "1004 : Big Kurkure 20 160\n",
      "\n",
      "------------------------------\n",
      "------------------------------\n"
     ]
    },
    {
     "name": "stdin",
     "output_type": "stream",
     "text": [
      "Enter your name:    Priya\n",
      "Enter your Phone number:    34393333333\n",
      "Enter Product ID to buy:        1003\n",
      "Enter Quantity you want to buy:    20\n"
     ]
    },
    {
     "name": "stdout",
     "output_type": "stream",
     "text": [
      "------------------------------\n",
      "\n",
      "Customer Name    :  Priya\n",
      "Phone No         :  34393333333\n",
      "Quantity         :  20\n",
      "------------------------------\n",
      "Your Bill Amount :  400\n"
     ]
    }
   ],
   "source": [
    "print(\"-\"*30)\n",
    "print(\"-\"*13+\"MENU\"+\"-\"*13+\"\\n\")\n",
    "\n",
    "for key in record.keys():\n",
    "    print(key ,\":\", record[key]['Product Name'],  record[key]['Price'], record[key]['Quantity'] )\n",
    "\n",
    "print(\"\\n\"+\"-\"*30)\n",
    "print(\"-\"*30)\n",
    "\n",
    "customerName = input(\"Enter your name:   \")\n",
    "phoneNo = input(\"Enter your Phone number:   \")\n",
    "id = int(input(\"Enter Product ID to buy:       \"))\n",
    "quan = int(input(\"Enter Quantity you want to buy:   \"))\n",
    "\n",
    "billAmount =0\n",
    "quantityBought=0\n",
    "\n",
    "if( record[id]['Quantity'] >= quan ):\n",
    "    record[id]['Quantity'] = record[id]['Quantity'] - quan\n",
    "    billAmount = quan * record[id]['Price']\n",
    "\n",
    "    quantityBought=quan\n",
    "    fd = open(\"sales.json\",'a+')\n",
    "    sale = {phoneNo: {'Name': customerName, 'Contact': phoneNo, 'Id': id, 'Quantity': quan, 'Bill': billAmount}}\n",
    "    js = json.dumps(sale)\n",
    "    fd.write(js)\n",
    "    fd.close()\n",
    "    \n",
    "else:\n",
    "    print(f\"We don't have {quan}\")\n",
    "    print(f\"We have {record[id]['Quantity']} of {record[id]['Product Name']}\")\n",
    "    ch = input(\"Do you want to buy it? Y or N?\")\n",
    "    if( ch == 'Y' ):\n",
    "        billAmount = record[id]['Quantity'] * record[id]['Price']\n",
    "        quantityBought=int(record[id]['Quantity'])\n",
    "        fd = open(\"sales.json\",'a+')\n",
    "        sale = {phoneNo: {'Name': customerName, 'Contact': phoneNo, 'Id': id, 'Quantity': quan, 'Bill': billAmount}}\n",
    "        js = json.dumps(sale)\n",
    "        fd.write(js)\n",
    "        fd.close()\n",
    "    \n",
    "    else:\n",
    "        print(\"OKAY, THANKYOU\")\n",
    "\n",
    "print(\"-\"*30+\"\\n\")\n",
    "print(f\"Customer Name    :  {customerName}\")\n",
    "print(f\"Phone No         :  {phoneNo}\")\n",
    "print(f\"Quantity         :  {quantityBought}\")\n",
    "print(\"-\"*30)\n",
    "print(f\"Your Bill Amount :  {billAmount}\")\n",
    "\n",
    "js = json.dumps(record)\n",
    "fd = open(\"inventory.json\",'w')\n",
    "fd.write(js)\n",
    "fd.close()"
   ]
  },
  {
   "cell_type": "code",
   "execution_count": 68,
   "id": "65c125ca-e1e2-4dc4-a18a-3fe69eee4c88",
   "metadata": {},
   "outputs": [
    {
     "name": "stdout",
     "output_type": "stream",
     "text": [
      "1001 : Dairy Milk 10 57\n",
      "1002 : Kurkure 10 147\n",
      "1003 : Kit-Kat 20 170\n",
      "1004 : Big Kurkure 20 160\n"
     ]
    }
   ],
   "source": [
    "for key in record.keys():\n",
    "    print(key ,\":\", record[key]['Product Name'],  record[key]['Price'], record[key]['Quantity'] )"
   ]
  },
  {
   "cell_type": "code",
   "execution_count": 56,
   "id": "916c6aeb-acd1-4882-a036-c5515b45b639",
   "metadata": {},
   "outputs": [
    {
     "name": "stdout",
     "output_type": "stream",
     "text": [
      "{\"1001\": {\"Product Name\": \"Dairy Milk\", \"Price\": 10, \"Quantity\": 77}, \"1002\": {\"Product Name\": \"Kurkure\", \"Price\": 10, \"Quantity\": 200}, \"1003\": {\"Product Name\": \"Kit-Kat\", \"Price\": 20, \"Quantity\": 200}, \"1004\": {\"Product Name\": \"Big Kurkure\", \"Price\": 20, \"Quantity\": 200}}\n"
     ]
    }
   ],
   "source": [
    "fd = open(\"inventory.json\",'r')\n",
    "txt = fd.read()\n",
    "fd.close()\n",
    "print(txt)"
   ]
  },
  {
   "cell_type": "code",
   "execution_count": null,
   "id": "616db790-4ee3-4e83-bc75-e0bfda4b5cba",
   "metadata": {},
   "outputs": [],
   "source": []
  }
 ],
 "metadata": {
  "kernelspec": {
   "display_name": "Python 3 (ipykernel)",
   "language": "python",
   "name": "python3"
  },
  "language_info": {
   "codemirror_mode": {
    "name": "ipython",
    "version": 3
   },
   "file_extension": ".py",
   "mimetype": "text/x-python",
   "name": "python",
   "nbconvert_exporter": "python",
   "pygments_lexer": "ipython3",
   "version": "3.11.1"
  }
 },
 "nbformat": 4,
 "nbformat_minor": 5
}
