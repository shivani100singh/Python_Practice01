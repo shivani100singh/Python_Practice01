{
 "cells": [
  {
   "cell_type": "code",
   "execution_count": 2,
   "id": "4b9572f1-df2e-4421-9730-e0f7b8b997a2",
   "metadata": {},
   "outputs": [],
   "source": [
    "productList = \"1,Kitkat,10,100\\n2,Dairy Milk,10,100\\n3,Kurkure,5,200\\n4,Big Kurkure,20,100\"\n",
    "file1 = open(\"inventory.txt\",'w')\n",
    "txt = file1.write(productList)\n",
    "# print(txt)\n",
    "file1.close()\n",
    "# Product Id\n",
    "# Product Name\n",
    "# Price\n",
    "# Quantity"
   ]
  },
  {
   "cell_type": "code",
   "execution_count": 3,
   "id": "8980bd95-eb5b-4c73-a6e2-d11e1d87d082",
   "metadata": {},
   "outputs": [
    {
     "name": "stdout",
     "output_type": "stream",
     "text": [
      "1,Kitkat,10,100\n",
      "2,Dairy Milk,10,100\n",
      "3,Kurkure,5,200\n",
      "4,Big Kurkure,20,100\n"
     ]
    }
   ],
   "source": [
    "# productList = \"1,Kitkat,10,100\\n2,Dairy Milk,10,100\\n3,Kurkure,5,200\\n4,Big Kurkure,20,100\"\n",
    "file1 = open(\"inventory.txt\",'r')\n",
    "txt = file1.read()\n",
    "print(txt)\n",
    "file1.close()\n",
    "# Product Id\n",
    "# Product Name\n",
    "# Price\n",
    "# Quantity"
   ]
  },
  {
   "cell_type": "code",
   "execution_count": 4,
   "id": "1e9d1fd4-248e-4b0e-8515-fbe8547aa50d",
   "metadata": {},
   "outputs": [],
   "source": [
    "Products=(txt.split(\"\\n\"))\n",
    "# print(len(totalProducts))"
   ]
  },
  {
   "cell_type": "code",
   "execution_count": 5,
   "id": "91c6b3df-c5e9-4b06-956b-652f3161a3c6",
   "metadata": {},
   "outputs": [
    {
     "data": {
      "text/plain": [
       "['1,Kitkat,10,100',\n",
       " '2,Dairy Milk,10,100',\n",
       " '3,Kurkure,5,200',\n",
       " '4,Big Kurkure,20,100']"
      ]
     },
     "execution_count": 5,
     "metadata": {},
     "output_type": "execute_result"
    }
   ],
   "source": [
    "Products"
   ]
  },
  {
   "cell_type": "code",
   "execution_count": 6,
   "id": "010e60fc-4ea8-4e56-92ca-02074fe8f759",
   "metadata": {},
   "outputs": [
    {
     "name": "stdout",
     "output_type": "stream",
     "text": [
      "SHOW PRODUCTS:\n",
      "\n",
      "1,Kitkat,10,100\n",
      "2,Dairy Milk,10,100\n",
      "3,Kurkure,5,200\n",
      "4,Big Kurkure,20,100\n"
     ]
    }
   ],
   "source": [
    "print(\"SHOW PRODUCTS:\\n\")\n",
    "for product in Products:\n",
    "    print(product)"
   ]
  },
  {
   "cell_type": "code",
   "execution_count": 61,
   "id": "397c180a-d7f2-4ed3-bed1-a1a5b9f2f4ab",
   "metadata": {},
   "outputs": [
    {
     "name": "stdin",
     "output_type": "stream",
     "text": [
      "Enter product ID  :   1\n",
      "Enter quantity    :    2\n"
     ]
    },
    {
     "name": "stdout",
     "output_type": "stream",
     "text": [
      "-------------------------\n",
      "Product Name:    Kitkat\n",
      "Product Prce:    10\n",
      "Quantity    :    2\n",
      "-------------------------\n",
      "Bill Amount :    20\n"
     ]
    }
   ],
   "source": [
    "id = int(input(\"Enter product ID  :  \"))\n",
    "quan = int( input(\"Enter quantity    :   \"))\n",
    "updated_list=[]\n",
    "for product in Products:\n",
    "    item = product.split(\",\")\n",
    "    if( (int(item[0]) == id) and (quan < int(item[3])) ):\n",
    "        print(\"-\"*25)\n",
    "        print(\"Product Name:   \",item[1])\n",
    "        print(\"Product Prce:   \",item[2])\n",
    "        print(\"Quantity    :   \",quan)\n",
    "        print(\"-\"*25)\n",
    "        print(\"Bill Amount :   \", quan * int(item[2]))\n",
    "        leftQuantity = int(item[3]) - quan\n",
    "        item[3] = leftQuantity\n",
    "    # list1 = list(str(item[0]), str(item[1]), str(item[2]), str(item[3]) )\n",
    "    updated_list.append(item)\n",
    "# fd = open(\"inventory.txt\",r)\n",
    "\n",
    "# fd.close()    "
   ]
  },
  {
   "cell_type": "code",
   "execution_count": 62,
   "id": "580b668a-02ac-47c5-b353-0cd5e765a0b9",
   "metadata": {},
   "outputs": [
    {
     "data": {
      "text/plain": [
       "[['1', 'Kitkat', '10', 98],\n",
       " ['2', 'Dairy Milk', '10', '100'],\n",
       " ['3', 'Kurkure', '5', '200'],\n",
       " ['4', 'Big Kurkure', '20', '100']]"
      ]
     },
     "execution_count": 62,
     "metadata": {},
     "output_type": "execute_result"
    }
   ],
   "source": [
    "updated_list"
   ]
  },
  {
   "cell_type": "code",
   "execution_count": 75,
   "id": "d66e3853-30f0-495d-9a91-059a4409fcd5",
   "metadata": {},
   "outputs": [],
   "source": [
    "fd = open(\"inventory.txt\",'w')\n",
    "for index,i in enumerate(updated_list):\n",
    "    prod = str(i[0])+\",\"+str(i[1])+\",\"+str(i[2])+\",\"+str(i[3])\n",
    "    if( index != len(updated_list)-1 ):\n",
    "        prod+=\"\\n\"\n",
    "    fd.write(prod)\n",
    "fd.close()"
   ]
  },
  {
   "cell_type": "code",
   "execution_count": 72,
   "id": "27c7c2a5-6511-4d18-9286-1dc758de1400",
   "metadata": {},
   "outputs": [
    {
     "name": "stdout",
     "output_type": "stream",
     "text": [
      "0\n",
      "1,Kitkat,10,98\n",
      "1\n",
      "2,Dairy Milk,10,100\n",
      "2\n",
      "3,Kurkure,5,200\n",
      "3\n",
      "4,Big Kurkure,20,100\n"
     ]
    }
   ],
   "source": [
    "for index,i in enumerate(updated_list):\n",
    "    print(index)\n",
    "    prod = str(i[0])+\",\"+str(i[1])+\",\"+str(i[2])+\",\"+str(i[3])                                                        \n",
    "    print(prod)"
   ]
  },
  {
   "cell_type": "code",
   "execution_count": 20,
   "id": "9b0419cb-47e8-45e1-b10e-b49d89bbf533",
   "metadata": {},
   "outputs": [
    {
     "name": "stdin",
     "output_type": "stream",
     "text": [
      "Enter Name:   1\n",
      "Enter Phone number:     4324444\n",
      "Enter product ID  :   1\n",
      "Enter quantity    :    10000\n"
     ]
    },
    {
     "name": "stdout",
     "output_type": "stream",
     "text": [
      "We don't have 10000 Kitkat\n",
      "We have 100 Kitkat\n",
      "Do you want to take it?\n"
     ]
    },
    {
     "name": "stdin",
     "output_type": "stream",
     "text": [
      "Y or N? N\n"
     ]
    },
    {
     "name": "stdout",
     "output_type": "stream",
     "text": [
      "Okay Kitkat is not added\n"
     ]
    }
   ],
   "source": [
    "import time as time\n",
    "customerName = input(\"Enter Name:  \")\n",
    "cutomerPhoneNo = input(\"Enter Phone number:    \")\n",
    "id = int(input(\"Enter product ID  :  \"))\n",
    "quan = int( input(\"Enter quantity    :   \"))\n",
    "updated_list=[]\n",
    "for product in Products:\n",
    "    item = product.split(\",\")\n",
    "    if( (int(item[0]) == id) and (quan < int(item[3])) ):\n",
    "        print(\"-\"*25)\n",
    "        print(\"Product Name:   \",item[1])\n",
    "        print(\"Product Prce:   \",item[2])\n",
    "        print(\"Quantity    :   \",quan)\n",
    "        print(\"-\"*25)\n",
    "        print(\"Bill Amount :   \", quan * int(item[2]))\n",
    "        leftQuantity = int(item[3]) - quan\n",
    "        item[3] = leftQuantity\n",
    "\n",
    "        salesfd = open(\"sales.txt\",'a')\n",
    "        sale=customerName+\",\"+cutomerPhoneNo+\",\"+str(id)+\",\"+str(quan)+\",\"+str(quan * int(item[2]))+\",\"+time.ctime()+\"\\n\"\n",
    "        salesfd.write(sale)\n",
    "        salesfd.close()\n",
    "    \n",
    "    elif( (int(item[0]) == id) and (quan > int(item[3])) ):\n",
    "        print(f\"We don't have {quan} {item[1]}\")\n",
    "        print(f\"We have {item[3]} {item[1]}\")\n",
    "        print(\"Do you want to take it?\")\n",
    "        ch = input(\"Y or N?\")\n",
    "\n",
    "        if( ch == 'Y' ):\n",
    "            print(\"-\"*25)\n",
    "            print(\"Product Name:   \",item[1])\n",
    "            print(\"Product Prce:   \",item[2])\n",
    "            print(\"Quantity    :   \",item[3])\n",
    "            print(\"-\"*25)\n",
    "            print(\"Bill Amount :   \", int(item[3]) * int(item[2]))\n",
    "            leftQuantity = 0\n",
    "            item[3] = leftQuantity\n",
    "\n",
    "            salesfd = open(\"sales.txt\",'a')\n",
    "            sale=customerName+\",\"+cutomerPhoneNo+\",\"+str(id)+\",\"+str(item[3])+\",\"+str(quan * int(item[2]))+\",\"+time.ctime()+\"\\n\"\n",
    "            salesfd.write(sale)\n",
    "            salesfd.close()\n",
    "        else:\n",
    "            print(f\"Okay {item[1]} is not added\")\n",
    "\n",
    "    \n",
    "        \n",
    "    updated_list.append(item)\n",
    "\n",
    "fd = open(\"inventory.txt\",'w')\n",
    "for index,i in enumerate(updated_list):\n",
    "    prod = str(i[0])+\",\"+str(i[1])+\",\"+str(i[2])+\",\"+str(i[3])\n",
    "    if( index != len(updated_list)-1 ):\n",
    "        prod+=\"\\n\"\n",
    "    fd.write(prod)\n",
    "fd.close()\n",
    "\n"
   ]
  },
  {
   "cell_type": "code",
   "execution_count": null,
   "id": "2805d5ed-21e8-4b49-9d79-45bc40d5ff6b",
   "metadata": {},
   "outputs": [],
   "source": []
  }
 ],
 "metadata": {
  "kernelspec": {
   "display_name": "Python 3 (ipykernel)",
   "language": "python",
   "name": "python3"
  },
  "language_info": {
   "codemirror_mode": {
    "name": "ipython",
    "version": 3
   },
   "file_extension": ".py",
   "mimetype": "text/x-python",
   "name": "python",
   "nbconvert_exporter": "python",
   "pygments_lexer": "ipython3",
   "version": "3.11.1"
  }
 },
 "nbformat": 4,
 "nbformat_minor": 5
}
